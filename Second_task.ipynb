{
 "cells": [
  {
   "cell_type": "markdown",
   "metadata": {},
   "source": [
    "Решаем динамикой. Будем записывать в ячейки массива вероятность того, что на n - ом шаге пьяница будет в данной позиции. Стартовая позиция - 2, пропасть - 0. В начале во 2 позиции значение 1, шаг 2* value[k] = value[k - 1] + value[k + 1] ( кроме крайних случаев). Хотя на чётных n пьяница только на чётных позициях(и аналогично на нечётных n), мы для удобства разделим рассчитываемые данные на 2 массива. Также для повышения точности будем хранить не само значение вероятности, а probability * 3^n. Поэтому ответ = 1 - value[0] * 3 ^ N - вероятность того, что пьяница НЕ упадёт."
   ]
  },
  {
   "cell_type": "markdown",
   "metadata": {},
   "source": [
    "При достаточно больших N это значение приближается к 3/4 :\n",
    "начиная примерно с n = 600 prob(n) = 0,75\n",
    "(ответ для N = 5 равен 0,84)"
   ]
  },
  {
   "cell_type": "code",
   "execution_count": 30,
   "metadata": {
    "collapsed": false
   },
   "outputs": [
    {
     "name": "stdout",
     "output_type": "stream",
     "text": [
      "100\n",
      "0.7500139459811362\n"
     ]
    }
   ],
   "source": [
    "import math\n",
    "\n",
    "def prob(N):\n",
    "    odd = [0 for i in range(N + 4)]\n",
    "    even = [0 for i in range(N + 4)]\n",
    "    even[2] = 1\n",
    "    for i in range(1, N + 1):\n",
    "        if (i % 2 == 1):\n",
    "            odd[0] = even[0] * 3;\n",
    "            odd[1] = even[2]\n",
    "            for j in range(3, i + 3, 2):\n",
    "                odd[j] = even[j - 1] * 2 + even[j + 1]\n",
    "        else:\n",
    "            even[0] = 3 * odd[0] + odd[1]\n",
    "            for j in range(2, i + 4, 2):\n",
    "                even[j] = odd[j - 1] * 2 + odd[j + 1]\n",
    "    if (N % 2 == 0): \n",
    "        return 1 - even[0] / pow(3, N)\n",
    "    else:\n",
    "        return 1 - odd[0] / pow(3, N)\n",
    "\n",
    "    \n",
    "def main():\n",
    "    n = int(input())\n",
    "    print(prob(n))\n",
    "    \n",
    "if __name__ == '__main__':\n",
    "    main()"
   ]
  },
  {
   "cell_type": "markdown",
   "metadata": {},
   "source": [
    "Построим по точкам график полученной функции prob:"
   ]
  },
  {
   "cell_type": "code",
   "execution_count": 31,
   "metadata": {
    "collapsed": false
   },
   "outputs": [
    {
     "data": {
      "image/png": "[encoded data removed]",
      "text/plain": [
       "<matplotlib.figure.Figure at 0x1f197cdbdd8>"
      ]
     },
     "metadata": {},
     "output_type": "display_data"
    }
   ],
   "source": [
    "import matplotlib.pyplot as plt\n",
    "x = [i for i in range(1000)]\n",
    "y = [prob(x[i]) for i in range(len(x))]\n",
    "graph = plt.figure()\n",
    "plt.scatter(x, y)\n",
    "plt.show()"
   ]
  },
  {
   "cell_type": "markdown",
   "metadata": {},
   "source": [
    "И посмотрим поближе отрезок N [0, 500], где функция изменяется наиболее существенно:"
   ]
  },
  {
   "cell_type": "code",
   "execution_count": 32,
   "metadata": {
    "collapsed": false
   },
   "outputs": [
    {
     "data": {
      "image/png": "[encoded data removed]",
      "text/plain": [
       "<matplotlib.figure.Figure at 0x1f198b3ab38>"
      ]
     },
     "metadata": {},
     "output_type": "display_data"
    }
   ],
   "source": [
    "import matplotlib.pyplot as plt\n",
    "x = [i for i in range(100)]\n",
    "y = [prob(x[i]) for i in range(len(x))]\n",
    "graph = plt.figure()\n",
    "plt.scatter(x, y)\n",
    "plt.show()"
   ]
  }
 ],
 "metadata": {
  "kernelspec": {
   "display_name": "Python 3",
   "language": "python",
   "name": "python3"
  },
  "language_info": {
   "codemirror_mode": {
    "name": "ipython",
    "version": 3
   },
   "file_extension": ".py",
   "mimetype": "text/x-python",
   "name": "python",
   "nbconvert_exporter": "python",
   "pygments_lexer": "ipython3",
   "version": "3.6.0"
  }
 },
 "nbformat": 4,
 "nbformat_minor": 2
}
