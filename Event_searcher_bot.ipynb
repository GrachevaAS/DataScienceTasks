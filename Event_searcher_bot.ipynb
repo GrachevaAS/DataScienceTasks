{
 "cells": [
  {
   "cell_type": "code",
   "execution_count": 1,
   "metadata": {
    "collapsed": true
   },
   "outputs": [],
   "source": [
    "import pandas as pd\n",
    "import numpy as np\n",
    "import facebook as fb\n",
    "import telebot\n",
    "from datetime import datetime\n",
    "from datetime import date\n",
    "import re"
   ]
  },
  {
   "cell_type": "code",
   "execution_count": 8,
   "metadata": {
    "collapsed": true
   },
   "outputs": [],
   "source": [
    "access_token = 'EAACEdEose0cBAAzKg9L92ycTLmO9jF0OOh44DKNKgTICSE75NKDCWz4MOEXgSYFimrBWj9GYxRtZBEnRRk0KfXgYtj7HZBfXTipoVZAnByLyZB2QL5OBpn9dmZCpUj1cEMFgQUvceZAypnTCQZAeZBn40xZAczWkU5X1TwidZAPXV8E3odwVPKKZCasfKElHJeWX6YZD'\n",
    "pageID = '290525360959001'"
   ]
  },
  {
   "cell_type": "code",
   "execution_count": 9,
   "metadata": {},
   "outputs": [],
   "source": [
    "def fb_parsing(access_token):\n",
    "    graph = fb.GraphAPI(access_token)\n",
    "    profile = graph.get_object(pageID)\n",
    "    posts = graph.get_connections(id=profile['id'], connection_name='feed')['data']\n",
    "    months = {'января', 'февраля', 'марта', 'апреля', 'мая', 'июня', 'июля', 'августа', 'сентября', 'октября', 'ноября',\n",
    "              'декабря'}\n",
    "    monthsOrder = {'января': 1, 'февраля': 2, 'марта': 3, 'апреля': 4, 'мая': 5, 'июня': 6,  #\n",
    "                   'июля': 7, 'августа': 8, 'сентября': 9, 'октября': 10, 'ноября': 11, 'декабря': 12}\n",
    "    eventsEndWordsSet = {'до', 'по'}\n",
    "    futureEvents_new = []\n",
    "    try:\n",
    "        futureEvents = list(pd.read_csv('futureEvents_' + pageID + '.csv', sep=',').to_dict(orient = 'index').values())\n",
    "    except:\n",
    "        futureEvents = []\n",
    "        file = open('futureEvents_' + pageID + '.csv', 'w')\n",
    "        file.close()\n",
    "    for post in posts:\n",
    "        getStartDate = 0\n",
    "        getEndDate = 0\n",
    "        try:\n",
    "            text = post['message']\n",
    "            text = text.replace('\\n', ' ')\n",
    "            wordsList = text.split()\n",
    "            for wordPos in range(len(wordsList)):\n",
    "                wordsList[wordPos] = wordsList[wordPos].strip('.').strip(',').strip('-')\n",
    "            #print(wordsList)\n",
    "            for wordPos in range(len(wordsList)):\n",
    "                if wordsList[wordPos] in months and re.match(r'[0-9][0-9]?\\b', wordsList[wordPos - 1]):\n",
    "                    if len(wordsList) > wordPos + 2 and \\\n",
    "                            len({wordsList[wordPos + 1], wordsList[wordPos + 2], wordsList[(wordPos + 2) % len(wordsList)]} \\\n",
    "                            & {'года', 'году'}) != 0:\n",
    "                                pass\n",
    "                                #print('!', wordsList[wordPos - 1], wordsList[wordPos], wordsList[wordPos + 1])\n",
    "                    else:\n",
    "                        #print(wordsList[wordPos - 1], wordsList[wordPos])\n",
    "                        eventMonth = monthsOrder[wordsList[wordPos]]\n",
    "                        eventYear = datetime.now().year\n",
    "                        if (eventMonth < datetime.now().month) and (eventMonth < 3):\n",
    "                            eventYear = eventYear + 1\n",
    "                        eventDay = int(wordsList[wordPos - 1])\n",
    "\n",
    "                        if getStartDate == 0:\n",
    "                            getStartDate = 1\n",
    "                            eventStart = date(eventYear, eventMonth, eventDay)\n",
    "                        try:\n",
    "                            if (wordsList[wordPos - 2] in eventsEndWordsSet) and getEndDate == 0:\n",
    "                                getEndDate = 1\n",
    "                                eventEnd = date(eventYear, eventMonth, eventDay)\n",
    "                        except:\n",
    "                            pass\n",
    "                        # print(datetime.date(datetime.now()), eventStart)\n",
    "            if (getStartDate == 0):\n",
    "                pass\n",
    "            else:\n",
    "                if (getEndDate == 0):\n",
    "                    eventEnd = eventStart\n",
    "                if (datetime.date(datetime.now()) <= eventStart) and (getStartDate != 0):\n",
    "                #if getStartDate != 0:\n",
    "                    futureEvents_new.append({'id': post['id'], 'from': eventStart, 'to': eventEnd, 'main': text})\n",
    "                    # print('!', futureEvents_new)\n",
    "        except KeyError:\n",
    "            pass\n",
    "\n",
    "    ID_set = set()\n",
    "    for e in futureEvents:\n",
    "        ID_set = ID_set | {e['id']}\n",
    "    for newPost in futureEvents_new:\n",
    "        if newPost['id'] not in ID_set:\n",
    "            futureEvents.append(newPost)\n",
    "            ID_set = ID_set | {newPost['id']}\n",
    "\n",
    "    pd.DataFrame(futureEvents).to_csv('futureEvents_' + pageID + '.csv', index=False, sep= ',')"
   ]
  },
  {
   "cell_type": "code",
   "execution_count": 10,
   "metadata": {},
   "outputs": [],
   "source": [
    "def get_relevant_events(date_str):\n",
    "    # print(date_str)\n",
    "    date_str = date_str.replace('/date ', '')\n",
    "    nums = date_str.split('.')\n",
    "    date_date = date(int(nums[2]), int(nums[1]), int(nums[0]))\n",
    "    relevantEvents = []\n",
    "    futureEvents = list(pd.read_csv('futureEvents_' + pageID + '.csv', sep=',').to_dict(orient = 'index').values())\n",
    "    # print(futureEvents)\n",
    "    for event in futureEvents:\n",
    "        from_date = datetime.strptime(event['from'], '%Y-%m-%d').date()\n",
    "        to_date = datetime.strptime(event['to'], '%Y-%m-%d').date()\n",
    "        # print(from_date, to_date)\n",
    "        if date_date >= from_date and date_date <= to_date:\n",
    "            relevantEvents.append(event['main'])\n",
    "    return relevantEvents"
   ]
  },
  {
   "cell_type": "code",
   "execution_count": 11,
   "metadata": {
    "collapsed": true
   },
   "outputs": [],
   "source": [
    "telegramToken = '413446284:AAGHqs63JjdCOCjTngZvohHtYp5ytBuPLkQ'\n",
    "bot = telebot.TeleBot(telegramToken)"
   ]
  },
  {
   "cell_type": "code",
   "execution_count": 12,
   "metadata": {
    "collapsed": true
   },
   "outputs": [],
   "source": [
    "@bot.message_handler(commands=['start'])\n",
    "def handle_start(message):\n",
    "   bot.send_message(message.chat.id, 'Привет! Я подскажу, куда сходить в Москве. Напиши /date и дату в формате 17.5.2017.')\n",
    "\n",
    "@bot.message_handler(commands=['date'], content_types=['text'])\n",
    "def search_events(message):\n",
    "    eventsToShow = get_relevant_events(message.text)\n",
    "    if len(eventsToShow) == 0:\n",
    "        bot.send_message(message.chat.id, 'There are no events for you, looser.')\n",
    "    else:\n",
    "        for text in eventsToShow:\n",
    "            bot.send_message(message.chat.id, text)\n",
    "\n",
    "@bot.message_handler(func=lambda m: True)\n",
    "def all_others(message):\n",
    "\tbot.reply_to(message, 'Please use the command /date')"
   ]
  },
  {
   "cell_type": "code",
   "execution_count": null,
   "metadata": {},
   "outputs": [],
   "source": [
    "if __name__ == '__main__':\n",
    "    fb_parsing(access_token)\n",
    "    bot.polling(none_stop=True)"
   ]
  }
 ],
 "metadata": {
  "kernelspec": {
   "display_name": "Python 3",
   "language": "python",
   "name": "python3"
  },
  "language_info": {
   "codemirror_mode": {
    "name": "ipython",
    "version": 3
   },
   "file_extension": ".py",
   "mimetype": "text/x-python",
   "name": "python",
   "nbconvert_exporter": "python",
   "pygments_lexer": "ipython3",
   "version": "3.5.2"
  }
 },
 "nbformat": 4,
 "nbformat_minor": 2
}
